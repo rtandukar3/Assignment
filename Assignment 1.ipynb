{
 "cells": [
  {
   "cell_type": "markdown",
   "id": "3fb0c3ad-e1b5-4e20-b899-201d8a5a9943",
   "metadata": {},
   "source": [
    "Exercise 1: Write a program that uses input to prompt a user for their\r\n",
    "name and then welcomes them.\r\n",
    "Enter your name: Chuck\r\n",
    "Hello Chuck\r\n"
   ]
  },
  {
   "cell_type": "code",
   "execution_count": 4,
   "id": "05dde82a-6aa7-4532-8b06-9d74dc44e253",
   "metadata": {},
   "outputs": [
    {
     "name": "stdin",
     "output_type": "stream",
     "text": [
      "Enter your name chuck\n"
     ]
    },
    {
     "name": "stdout",
     "output_type": "stream",
     "text": [
      "Welcome chuck\n"
     ]
    }
   ],
   "source": [
    "name= input(\"Enter your name\")\n",
    "print(f\"Welcome {name}\")"
   ]
  },
  {
   "cell_type": "code",
   "execution_count": 8,
   "id": "b572d922-aedd-4f9e-b8f2-4d529ccea213",
   "metadata": {},
   "outputs": [
    {
     "name": "stdin",
     "output_type": "stream",
     "text": [
      "Enter your name Roshan\n"
     ]
    },
    {
     "name": "stdout",
     "output_type": "stream",
     "text": [
      "Welcome Roshan\n"
     ]
    }
   ],
   "source": [
    "name= input(\"Enter your name\")\n",
    "print(f\"Welcome {name}\")"
   ]
  },
  {
   "cell_type": "markdown",
   "id": "44d3496d-72c1-42f3-9ab0-b450479ce41a",
   "metadata": {},
   "source": [
    "Exercise 2: Write a program to prompt the user for hours and rate per\r\n",
    "hour to compute gross pay.\r\n",
    "Enter Hours: 35\r\n",
    "Enter Rate: 2.75\r\n",
    "Pay: 96.25\r\n"
   ]
  },
  {
   "cell_type": "code",
   "execution_count": 18,
   "id": "2898a255-0fc4-49c1-9c3e-0dc7dd16b375",
   "metadata": {},
   "outputs": [
    {
     "name": "stdin",
     "output_type": "stream",
     "text": [
      "Enter Hours 35\n",
      "Enter Rate 2.75\n"
     ]
    },
    {
     "name": "stdout",
     "output_type": "stream",
     "text": [
      "Pay:96.25\n"
     ]
    }
   ],
   "source": [
    "Hours= int(input(\"Enter Hours\"))\n",
    "Rate= float(input(\"Enter Rate\"))\n",
    "print (f\"Pay:{Hours*Rate}\")"
   ]
  },
  {
   "cell_type": "markdown",
   "id": "93caa1ec-94e1-43d9-95e0-3029c3365ab9",
   "metadata": {},
   "source": [
    "Exercise 3: Assume that we execute the following assignment statements:\r\n",
    "width = 17\r\n",
    "height = 12.0\r\n",
    "\r\n",
    "For each of the following expressions, write the value of the expression and the\r\n",
    "type (of the value of the expression).\r\n",
    "1. width//2\r\n",
    "2. width/2.0\r\n",
    "3. height/3\r\n",
    "4. 1 + 2 * 5\r\n",
    "Use the Python interpreter to check your answers.\r\n"
   ]
  },
  {
   "cell_type": "code",
   "execution_count": 19,
   "id": "c3533f0b-a611-400f-aa0b-c57b0d2b5943",
   "metadata": {},
   "outputs": [
    {
     "data": {
      "text/plain": [
       "8"
      ]
     },
     "execution_count": 19,
     "metadata": {},
     "output_type": "execute_result"
    }
   ],
   "source": [
    "width=17\n",
    "height= 12.0\n",
    "width//2"
   ]
  },
  {
   "cell_type": "code",
   "execution_count": 20,
   "id": "1d15387d-aae2-4257-9566-ca93dc7c37ea",
   "metadata": {},
   "outputs": [
    {
     "data": {
      "text/plain": [
       "8.5"
      ]
     },
     "execution_count": 20,
     "metadata": {},
     "output_type": "execute_result"
    }
   ],
   "source": [
    "width/2.0"
   ]
  },
  {
   "cell_type": "code",
   "execution_count": 21,
   "id": "fd694dff-a405-46d5-9fb9-01312906547b",
   "metadata": {},
   "outputs": [
    {
     "data": {
      "text/plain": [
       "4.0"
      ]
     },
     "execution_count": 21,
     "metadata": {},
     "output_type": "execute_result"
    }
   ],
   "source": [
    "height/3"
   ]
  },
  {
   "cell_type": "code",
   "execution_count": 22,
   "id": "72407bd1-5446-4948-8013-3b13897b01eb",
   "metadata": {},
   "outputs": [
    {
     "data": {
      "text/plain": [
       "11"
      ]
     },
     "execution_count": 22,
     "metadata": {},
     "output_type": "execute_result"
    }
   ],
   "source": [
    "1+2*5"
   ]
  },
  {
   "cell_type": "markdown",
   "id": "e85448e7-0333-482d-8b14-ca5e17bf3c75",
   "metadata": {},
   "source": [
    "Exercise 4: Write a program which prompts the user for a Celsius temperature, convert the temperature to Fahrenheit, and print out the converted temperature."
   ]
  },
  {
   "cell_type": "code",
   "execution_count": 31,
   "id": "f1b380b2-6f1f-473b-9623-3279387ed410",
   "metadata": {},
   "outputs": [
    {
     "name": "stdin",
     "output_type": "stream",
     "text": [
      "Celcius 34\n"
     ]
    },
    {
     "name": "stdout",
     "output_type": "stream",
     "text": [
      "Fahrenheit:93.2\n"
     ]
    }
   ],
   "source": [
    "Ce= int(input(\"Celcius\"))\n",
    "Fr= (Ce*9/5)+32\n",
    "print (f\"Fahrenheit:{Fr}\")"
   ]
  },
  {
   "cell_type": "markdown",
   "id": "6a9aa12d-ec84-4a36-8c3a-1476eade898d",
   "metadata": {},
   "source": [
    "°C = [ (°F-32)×5]/9\n",
    "Convert temperature of Fahrenheit to Celcius"
   ]
  },
  {
   "cell_type": "markdown",
   "id": "42f7ba1c-3caa-41dd-8cc6-9f619a988557",
   "metadata": {},
   "source": [
    "Fr=int(input(\"Fahrenheit\"))\n",
    "Ce= (Fr-32)*5/9\n",
    "print (f\"Celcius:{Ce}\")"
   ]
  },
  {
   "cell_type": "markdown",
   "id": "3ab3031a-5faf-4666-a890-65ac68174461",
   "metadata": {},
   "source": [
    "Kelvin = Celsius + 273.15\n",
    "Convert to Kelvin"
   ]
  },
  {
   "cell_type": "code",
   "execution_count": 35,
   "id": "8b923557-562a-4363-87b5-ba84d8501f34",
   "metadata": {},
   "outputs": [
    {
     "name": "stdin",
     "output_type": "stream",
     "text": [
      "Celcius 40\n"
     ]
    },
    {
     "name": "stdout",
     "output_type": "stream",
     "text": [
      "Kelvin:313.15\n"
     ]
    }
   ],
   "source": [
    "Ce=int(input(\"Celcius\"))\n",
    "Ke=Ce+273.15\n",
    "print(f\"Kelvin:{Ke}\")"
   ]
  },
  {
   "cell_type": "code",
   "execution_count": null,
   "id": "3bebb3f7-1570-435c-a8cc-e1fb343937ca",
   "metadata": {},
   "outputs": [],
   "source": []
  }
 ],
 "metadata": {
  "kernelspec": {
   "display_name": "Python 3 (ipykernel)",
   "language": "python",
   "name": "python3"
  },
  "language_info": {
   "codemirror_mode": {
    "name": "ipython",
    "version": 3
   },
   "file_extension": ".py",
   "mimetype": "text/x-python",
   "name": "python",
   "nbconvert_exporter": "python",
   "pygments_lexer": "ipython3",
   "version": "3.12.4"
  }
 },
 "nbformat": 4,
 "nbformat_minor": 5
}
