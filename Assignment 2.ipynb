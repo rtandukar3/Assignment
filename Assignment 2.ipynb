{
 "cells": [
  {
   "cell_type": "markdown",
   "id": "a80f3882-8b70-4f39-9f5c-5d9a0760215f",
   "metadata": {},
   "source": [
    "Homework 2\r\n",
    "\r\n",
    "Topic: Python Conditionals\r\n",
    "\r\n",
    "Exercise 1: Write a pay computation program to give the employee 1.5 times the hourly rate for hours worked above 40 hours.\r\n"
   ]
  },
  {
   "cell_type": "code",
   "execution_count": 30,
   "id": "4b396bbe-37c4-4dab-8d49-f88f270afe15",
   "metadata": {},
   "outputs": [
    {
     "data": {
      "text/plain": [
       "475.0"
      ]
     },
     "execution_count": 30,
     "metadata": {},
     "output_type": "execute_result"
    }
   ],
   "source": [
    "Hours= 45\n",
    "Rate= 10\n",
    "Total_Pay= (H*R) if (H<40) else (40*R+(H-40)*R*1.5)\n",
    "Total_Pay\n"
   ]
  },
  {
   "cell_type": "markdown",
   "id": "ddb122c9-eabb-4b3b-95c1-89984b034ef5",
   "metadata": {},
   "source": [
    "Exercise 2: Write a program to prompt for a score between 0.0 and 1.0. If the score is out of range, print an error message. If the score is between 0.0 and 1.0, print a grade using the following table:\r\n",
    "\r\n",
    "\r\n",
    "Range\tGrade\r\n",
    ">= 0.9\tA\r\n",
    ">= 0.8\tB\r\n",
    ">= 0.7\tC\r\n",
    ">= 0.6\tD\r\n",
    "< 0.6\tF\r\n",
    "\r\n",
    "Sample run:\r\n",
    "\r\n",
    "Enter score: 0.95\r\n",
    "A\r\n",
    "\r\n",
    "Enter score: perfect\r\n",
    "Bad score\r\n",
    "\r\n",
    "Enter score: 10.0\r\n",
    "Bad score\r\n",
    "\r\n",
    "Enter score: 0.75\r\n",
    "C\r\n",
    "\r\n",
    "Enter score: 0.5\r\n",
    "F\r\n",
    "\r\n",
    "Run the program repeatedly as shown above to test the various different values for\r\n",
    "input.\r\n",
    "\r\n",
    "\r\n"
   ]
  },
  {
   "cell_type": "code",
   "execution_count": 41,
   "id": "0cc3eff4-2763-4d12-a717-8a3f67cdd290",
   "metadata": {},
   "outputs": [
    {
     "name": "stdin",
     "output_type": "stream",
     "text": [
      "enter score 0.95\n"
     ]
    },
    {
     "name": "stdout",
     "output_type": "stream",
     "text": [
      "A\n"
     ]
    }
   ],
   "source": [
    "score = float(input(\"enter score\"))\n",
    "if score>=0.9:\n",
    "    print(\"A\")\n",
    "    "
   ]
  },
  {
   "cell_type": "code",
   "execution_count": 49,
   "id": "a58d6298-f18a-4fe5-871d-7858e885e68f",
   "metadata": {},
   "outputs": [
    {
     "name": "stdin",
     "output_type": "stream",
     "text": [
      "enter score 10\n"
     ]
    },
    {
     "name": "stdout",
     "output_type": "stream",
     "text": [
      "Bad Score\n"
     ]
    }
   ],
   "source": [
    "score= float(input(\"enter score\"))\n",
    "if score>=1:\n",
    "    print(\"Bad Score\")"
   ]
  },
  {
   "cell_type": "code",
   "execution_count": 50,
   "id": "78beed28-cf6f-4256-823a-8cc2c21a891e",
   "metadata": {},
   "outputs": [
    {
     "name": "stdin",
     "output_type": "stream",
     "text": [
      "enter score 0.75\n"
     ]
    },
    {
     "name": "stdout",
     "output_type": "stream",
     "text": [
      "C\n"
     ]
    }
   ],
   "source": [
    "score= float(input(\"enter score\"))\n",
    "if score>=0.7:\n",
    "    print(\"C\")"
   ]
  },
  {
   "cell_type": "code",
   "execution_count": 51,
   "id": "9b74aed7-f2e9-4124-851f-ae32b37119bf",
   "metadata": {},
   "outputs": [
    {
     "name": "stdin",
     "output_type": "stream",
     "text": [
      "enter score 0.5\n"
     ]
    },
    {
     "name": "stdout",
     "output_type": "stream",
     "text": [
      "F\n"
     ]
    }
   ],
   "source": [
    "score= float(input(\"enter score\"))\n",
    "if score >=0.5:\n",
    "    print(\"F\")"
   ]
  },
  {
   "cell_type": "code",
   "execution_count": 69,
   "id": "1e77f7df-4a77-4e9e-9555-614cab483f07",
   "metadata": {},
   "outputs": [
    {
     "name": "stdin",
     "output_type": "stream",
     "text": [
      "enter score 5\n"
     ]
    },
    {
     "name": "stdout",
     "output_type": "stream",
     "text": [
      "Bad Score\n"
     ]
    }
   ],
   "source": [
    "score = float(input(\"enter score\"))\n",
    "if score>=0.9 and score<=1:\n",
    "    print(\"A\")\n",
    "elif score>=1:\n",
    "    print(\"Bad Score\")\n",
    "elif score>=0.7:\n",
    "    print(\"C\")\n",
    "elif score>=0.5:\n",
    "    print(\"F\")\n",
    "else: \n",
    "    print(\"Bad Score\")\n"
   ]
  }
 ],
 "metadata": {
  "kernelspec": {
   "display_name": "Python 3 (ipykernel)",
   "language": "python",
   "name": "python3"
  },
  "language_info": {
   "codemirror_mode": {
    "name": "ipython",
    "version": 3
   },
   "file_extension": ".py",
   "mimetype": "text/x-python",
   "name": "python",
   "nbconvert_exporter": "python",
   "pygments_lexer": "ipython3",
   "version": "3.12.4"
  }
 },
 "nbformat": 4,
 "nbformat_minor": 5
}
